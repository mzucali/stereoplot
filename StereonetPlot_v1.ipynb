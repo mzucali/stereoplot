{
  "nbformat": 4,
  "nbformat_minor": 0,
  "metadata": {
    "colab": {
      "provenance": [],
      "authorship_tag": "ABX9TyNV0a+gpm+QznqcGXe2zzfH",
      "include_colab_link": true
    },
    "kernelspec": {
      "name": "python3",
      "display_name": "Python 3"
    },
    "language_info": {
      "name": "python"
    }
  },
  "cells": [
    {
      "cell_type": "markdown",
      "metadata": {
        "id": "view-in-github",
        "colab_type": "text"
      },
      "source": [
        "<a href=\"https://colab.research.google.com/github/mzucali/stereoplot/blob/main/StereonetPlot_v1.ipynb\" target=\"_parent\"><img src=\"https://colab.research.google.com/assets/colab-badge.svg\" alt=\"Open In Colab\"/></a>"
      ]
    },
    {
      "cell_type": "code",
      "source": [
        "# prompt: use mplstereonet\n",
        "\n",
        "!pip install mplstereonet\n",
        "\n",
        "import pandas as pd\n",
        "import matplotlib.pyplot as plt\n",
        "import mplstereonet\n",
        "import numpy as np\n",
        "from scipy.spatial.transform import Rotation as R\n",
        "from mpl_toolkits.mplot3d import Axes3D\n"
      ],
      "metadata": {
        "id": "h9sddU7hJZYr"
      },
      "execution_count": null,
      "outputs": []
    },
    {
      "cell_type": "code",
      "source": [
        "# prompt: create a test excel file and save it\n",
        "\n",
        "import pandas as pd\n",
        "\n",
        "# Create a sample DataFrame\n",
        "data = {'Bearing': [45, 45, 120, 120, 214, 276, 312],\n",
        "        'Dip': [45, 70, 60, 30, 45, 60, 30]}\n",
        "df = pd.DataFrame(data)\n",
        "\n",
        "# Save the DataFrame to an Excel file\n",
        "excel_file = '/content/geological_data.xlsx'\n",
        "df.to_excel(excel_file, index=False)\n",
        "\n",
        "print(f\"Excel file '{excel_file}' created successfully.\")"
      ],
      "metadata": {
        "id": "Ei_MpCdBGEq2"
      },
      "execution_count": null,
      "outputs": []
    },
    {
      "cell_type": "code",
      "source": [
        "\n",
        "\n",
        "def plot_stereonet(bearings, dips):\n",
        "  \"\"\"Plots geological data on a stereonet.\n",
        "\n",
        "  Args:\n",
        "    bearings: A list or numpy array of bearing values (in degrees).\n",
        "    dips: A list or numpy array of dip values (in degrees).\n",
        "  \"\"\"\n",
        "\n",
        "  fig = plt.figure(figsize=(8, 8))\n",
        "  ax = fig.add_subplot(111, projection='stereonet')\n",
        "  ax.pole(bearings, dips)\n",
        "\n",
        "  ax.grid()\n",
        "\n",
        "  plt.show()\n",
        "\n",
        "\n",
        "if __name__ == '__main__':\n",
        "  # Read data from Excel file\n",
        "  excel_file = '/content/geological_data.xlsx'  # Replace with your file path\n",
        "  df = pd.read_excel(excel_file)\n",
        "\n",
        "  # Assuming your columns are named 'Bearing' and 'Dip'\n",
        "  bearings = df['Bearing'].values\n",
        "  dips = df['Dip'].values\n",
        "\n",
        "  # Plot the data\n",
        "  plot_stereonet(bearings, dips)"
      ],
      "metadata": {
        "id": "0cl3EVTmHsSX"
      },
      "execution_count": null,
      "outputs": []
    },
    {
      "cell_type": "code",
      "source": [
        "# prompt: add figure plotting data as planes in stereonet\n",
        "\n",
        "import pandas as pd\n",
        "import matplotlib.pyplot as plt\n",
        "from mpl_toolkits.mplot3d import Axes3D\n",
        "import numpy as np\n",
        "from scipy.spatial.transform import Rotation as R\n",
        "import mplstereonet\n",
        "\n",
        "\n",
        "def plot_stereonet(bearings, dips):\n",
        "  \"\"\"Plots geological data on a stereonet.\n",
        "\n",
        "  Args:\n",
        "    bearings: A list or numpy array of bearing values (in degrees).\n",
        "    dips: A list or numpy array of dip values (in degrees).\n",
        "  \"\"\"\n",
        "\n",
        "  fig = plt.figure(figsize=(8, 8))\n",
        "  ax = fig.add_subplot(111, projection='stereonet')\n",
        "\n",
        "  # Plot the planes using plane()\n",
        "  for bearing, dip in zip(bearings, dips):\n",
        "      ax.plane(bearing, dip, color='blue')\n",
        "\n",
        "  ax.grid()\n",
        "\n",
        "  plt.show()\n",
        "\n",
        "\n",
        "if __name__ == '__main__':\n",
        "  # Read data from Excel file\n",
        "  excel_file = '/content/geological_data.xlsx'  # Replace with your file path\n",
        "  df = pd.read_excel(excel_file)\n",
        "\n",
        "  # Assuming your columns are named 'Bearing' and 'Dip'\n",
        "  bearings = df['Bearing'].values\n",
        "  dips = df['Dip'].values\n",
        "\n",
        "  # Plot the data\n",
        "  plot_stereonet(bearings, dips)"
      ],
      "metadata": {
        "id": "0ifyocgvHz9l"
      },
      "execution_count": null,
      "outputs": []
    },
    {
      "cell_type": "code",
      "source": [
        "# prompt: plot poles and planes together\n",
        "\n",
        "def plot_stereonet(bearings, dips):\n",
        "  \"\"\"Plots poles and planes on a stereonet.\n",
        "\n",
        "  Args:\n",
        "    bearings: A list or numpy array of bearing values (in degrees).\n",
        "    dips: A list or numpy array of dip values (in degrees).\n",
        "  \"\"\"\n",
        "\n",
        "  fig = plt.figure(figsize=(8, 8))\n",
        "  ax = fig.add_subplot(111, projection='stereonet')\n",
        "\n",
        "  # Plot the poles using pole()\n",
        "  ax.pole(bearings, dips, color='red', marker='o')\n",
        "\n",
        "  # Plot the planes using plane()\n",
        "  for bearing, dip in zip(bearings, dips):\n",
        "      ax.plane(bearing, dip, color='blue')\n",
        "\n",
        "  ax.grid()\n",
        "\n",
        "  plt.show()\n",
        "\n",
        "\n",
        "if __name__ == '__main__':\n",
        "  # Read data from Excel file\n",
        "  excel_file = '/content/geological_data.xlsx'  # Replace with your file path\n",
        "  df = pd.read_excel(excel_file)\n",
        "\n",
        "  # Assuming your columns are named 'Bearing' and 'Dip'\n",
        "  bearings = df['Bearing'].values\n",
        "  dips = df['Dip'].values\n",
        "\n",
        "  # Plot the data\n",
        "  plot_stereonet(bearings, dips)"
      ],
      "metadata": {
        "id": "YWHhqcWRJ9PF"
      },
      "execution_count": null,
      "outputs": []
    }
  ]
}